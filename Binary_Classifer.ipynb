{
  "cells": [
    {
      "cell_type": "markdown",
      "source": [
        "# Below shows some steps for loading the data "
      ],
      "metadata": {
        "id": "QYOCUrVBMLvt"
      }
    },
    {
      "cell_type": "code",
      "source": [
        "!git clone https://github.com/ieee8023/covid-chestxray-dataset"
      ],
      "metadata": {
        "colab": {
          "base_uri": "https://localhost:8080/"
        },
        "id": "WfRrPoMFe6nY",
        "outputId": "223d0bff-bdd4-4635-d51d-27de7408cd70"
      },
      "execution_count": null,
      "outputs": [
        {
          "output_type": "stream",
          "name": "stdout",
          "text": [
            "Cloning into 'covid-chestxray-dataset'...\n",
            "remote: Enumerating objects: 3641, done.\u001b[K\n"
          ]
        }
      ]
    },
    {
      "cell_type": "code",
      "source": [
        "# You can use the tf loader or use the metafile csv"
      ],
      "metadata": {
        "id": "uEuHYlZFN9xZ"
      },
      "execution_count": null,
      "outputs": []
    },
    {
      "cell_type": "code",
      "execution_count": null,
      "metadata": {
        "_cell_guid": "b1076dfc-b9ad-4769-8c92-a6c4dae69d19",
        "_uuid": "8f2839f25d086af736a60e9eeb907d3b93b6e0e5",
        "id": "P9Sn7WJreyx4"
      },
      "outputs": [],
      "source": [
        "# import the necessary packages\n",
        "from tensorflow.keras.preprocessing.image import ImageDataGenerator\n",
        "from tensorflow.keras.applications import VGG16\n",
        "from tensorflow.keras.layers import Activation, Dropout,Dense, Flatten, BatchNormalization, Conv2D, MaxPooling2D, Lambda, Input, AveragePooling2D\n",
        "from tensorflow.keras.layers import Dropout\n",
        "from tensorflow.keras.layers import Flatten\n",
        "from tensorflow.keras.layers import Dense\n",
        "from tensorflow.keras.layers import Input\n",
        "from tensorflow.keras.models import Model, Sequential\n",
        "from keras.callbacks import ReduceLROnPlateau, LearningRateScheduler\n",
        "from tensorflow.keras.optimizers import Adam\n",
        "from tensorflow.keras.utils import to_categorical\n",
        "from sklearn.preprocessing import LabelBinarizer\n",
        "from sklearn.model_selection import train_test_split\n",
        "from sklearn.metrics import classification_report\n",
        "from sklearn.metrics import confusion_matrix\n",
        "from imutils import paths\n",
        "import matplotlib.pyplot as plt\n",
        "import pandas as pd\n",
        "import numpy as np\n",
        "import random\n",
        "import shutil\n",
        "import cv2\n",
        "import os"
      ]
    },
    {
      "cell_type": "code",
      "execution_count": null,
      "metadata": {
        "id": "ki5juYFWeyzH"
      },
      "outputs": [],
      "source": [
        "dataset_path = './covid-chestxray-dataset'"
      ]
    },
    {
      "cell_type": "code",
      "source": [
        "# using pytorch loader \n",
        "!pip -q install torchxrayvision\n",
        "import torchxrayvision as xrv\n",
        "!git clone https://github.com/ieee8023/covid-chestxray-dataset\n",
        "d = xrv.datasets.COVID19_Dataset(imgpath=\"covid-chestxray-dataset/images/\",csvpath=\"covid-chestxray-dataset/metadata.csv\")\n",
        "features = 'img' # \n",
        "target = 'lab'  #"
      ],
      "metadata": {
        "id": "5gwbsOcVNHgb"
      },
      "execution_count": null,
      "outputs": []
    },
    {
      "cell_type": "code",
      "source": [
        "from glob import glob\n",
        "import matplotlib.pyplot as plt\n",
        "import numpy as np\n",
        "import torch  \n",
        "import torchvision\n",
        "import torchxrayvision as xrv\n",
        "import pylab\n",
        "import torch.optim as optim\n",
        "import torch.nn as nn\n",
        "from pathlib import Path\n",
        "from tqdm import tqdm\n",
        "\n",
        "\n",
        "PATH = Path('covid-chestxray-dataset')\n",
        "transform = torchvision.transforms.Compose([xrv.datasets.XRayCenterCrop(),xrv.datasets.XRayResizer(224)])\n",
        "dataset = xrv.datasets.COVID19_Dataset(imgpath=PATH/'images',csvpath=PATH/'metadata.csv', transform=transform)\n",
        "\n",
        "len_dataset=len(dataset)\n",
        "n_train=int(0.9*len_dataset)\n",
        "n_test=int(0.1*len_dataset)+1\n",
        "print(f'Total samples: {len_dataset}, train size size: {n_train}, test set size: {n_test}')\n",
        "\n",
        "train_ds, test_ds = torch.utils.data.random_split(dataset, [n_train,n_test])\n",
        "train_dl = torch.utils.data.DataLoader(train_ds, batch_size=4,shuffle=True, num_workers=4)\n",
        "test_dl = torch.utils.data.DataLoader(test_ds, batch_size=4,shuffle=True, num_workers=1)\n",
        "model = xrv.models.DenseNet(num_classes=2)\n",
        "criterion = nn.CrossEntropyLoss()\n",
        "optimizer = optim.SGD(model.parameters(), lr=0.001, momentum=0.9)"
      ],
      "metadata": {
        "id": "zr7ksQ63M7rU"
      },
      "execution_count": null,
      "outputs": []
    },
    {
      "cell_type": "code",
      "source": [
        "train_loss_history, test_loss_history = [], []\n",
        "for epoch in tqdm(range(10)):  # loop over the dataset multiple times\n",
        "\n",
        "    running_loss = 0.0\n",
        "    for i, data in enumerate(train_dl, 0):\n",
        "\n",
        "        inputs=data[features]\n",
        "        labels=data[target].long()\n",
        "        labels=labels[:,2]\n",
        "\n",
        "        # get the inputs; data is a list of [inputs, labels]\n",
        "        # zero the parameter gradients\n",
        "        optimizer.zero_grad()\n",
        "\n",
        "        # forward + backward + optimize\n",
        "        outputs = model(inputs)\n",
        "        loss = criterion(outputs, labels)\n",
        "        loss.backward()\n",
        "        optimizer.step()\n",
        "\n",
        "        # print statistics\n",
        "        running_loss += loss.item()\n",
        "    test_loss=0.0\n",
        "\n",
        "    for i, data in enumerate(test_dl, 0):\n",
        "        inputs=data[features]\n",
        "        labels=data[target].long()\n",
        "        labels=labels[:,2]\n",
        "\n",
        "        # forward + backward + optimize\n",
        "        outputs = model(inputs)\n",
        "        loss = criterion(outputs, labels)\n",
        "\n",
        "        # print statistics\n",
        "        test_loss += loss.item()\n",
        "        \n",
        "    train_loss_history.append(running_loss)\n",
        "    test_loss_history.append(test_loss)"
      ],
      "metadata": {
        "id": "7eyfn2CXNqfm"
      },
      "execution_count": null,
      "outputs": []
    },
    {
      "cell_type": "markdown",
      "metadata": {
        "id": "lOVLJFOFeyzK"
      },
      "source": [
        "## Plot x-rays"
      ]
    },
    {
      "cell_type": "markdown",
      "metadata": {
        "id": "gsW7geCgeyzK"
      },
      "source": [
        "Helper function to plot the images in a grid"
      ]
    },
    {
      "cell_type": "code",
      "execution_count": null,
      "metadata": {
        "id": "vbiflpZCeyzL"
      },
      "outputs": [],
      "source": [
        "def ceildiv(a, b):\n",
        "    return -(-a // b)\n",
        "\n",
        "def plots_from_files(imspaths, figsize=(10,5), rows=1, titles=None, maintitle=None):\n",
        "    \"\"\"Plot the images in a grid\"\"\"\n",
        "    f = plt.figure(figsize=figsize)\n",
        "    if maintitle is not None: plt.suptitle(maintitle, fontsize=10)\n",
        "    for i in range(len(imspaths)):\n",
        "        sp = f.add_subplot(rows, ceildiv(len(imspaths), rows), i+1)\n",
        "        sp.axis('Off')\n",
        "        if titles is not None: sp.set_title(titles[i], fontsize=16)\n",
        "        img = plt.imread(imspaths[i])\n",
        "        plt.imshow(img)"
      ]
    },
    {
      "cell_type": "code",
      "execution_count": null,
      "metadata": {
        "id": "d2c4YsOMeyzL"
      },
      "outputs": [],
      "source": [
        "normal_images = list(paths.list_images(f\"{dataset_path}/normal\"))\n",
        "covid_images = list(paths.list_images(f\"{dataset_path}/covid\"))"
      ]
    },
    {
      "cell_type": "code",
      "execution_count": null,
      "metadata": {
        "colab": {
          "base_uri": "https://localhost:8080/",
          "height": 166
        },
        "id": "G7O7BP9yeyzL",
        "outputId": "42e5f53c-f205-4790-bd1f-440a71ca3cf9"
      },
      "outputs": [
        {
          "output_type": "error",
          "ename": "NameError",
          "evalue": "ignored",
          "traceback": [
            "\u001b[0;31m---------------------------------------------------------------------------\u001b[0m",
            "\u001b[0;31mNameError\u001b[0m                                 Traceback (most recent call last)",
            "\u001b[0;32m<ipython-input-24-3f31d31fb842>\u001b[0m in \u001b[0;36m<module>\u001b[0;34m\u001b[0m\n\u001b[0;32m----> 1\u001b[0;31m \u001b[0mplots_from_files\u001b[0m\u001b[0;34m(\u001b[0m\u001b[0mnormal_images\u001b[0m\u001b[0;34m,\u001b[0m \u001b[0mrows\u001b[0m\u001b[0;34m=\u001b[0m\u001b[0;36m5\u001b[0m\u001b[0;34m,\u001b[0m \u001b[0mmaintitle\u001b[0m\u001b[0;34m=\u001b[0m\u001b[0;34m\"Normal X-ray images\"\u001b[0m\u001b[0;34m)\u001b[0m\u001b[0;34m\u001b[0m\u001b[0;34m\u001b[0m\u001b[0m\n\u001b[0m",
            "\u001b[0;31mNameError\u001b[0m: name 'normal_images' is not defined"
          ]
        }
      ],
      "source": [
        "#plots_from_files(normal_images, rows=5, maintitle=\"Normal X-ray images\")"
      ]
    },
    {
      "cell_type": "code",
      "execution_count": null,
      "metadata": {
        "colab": {
          "base_uri": "https://localhost:8080/",
          "height": 114
        },
        "id": "Q3v-i2aTeyzM",
        "outputId": "32ffd6a4-da36-41d0-dd32-4ab216c712c1"
      },
      "outputs": [
        {
          "output_type": "display_data",
          "data": {
            "text/plain": [
              "<Figure size 720x360 with 1 Axes>"
            ],
            "image/png": "[encoded data removed]"
          },
          "metadata": {
            "needs_background": "light"
          }
        }
      ],
      "source": [
        "#plots_from_files(['covid-chestxray-dataset/images/f46a9bfc7222e61e099a25ab9267da_jumbo.jpeg'], rows=5, maintitle=\"Covid-19 X-ray images\")"
      ]
    },
    {
      "cell_type": "markdown",
      "metadata": {
        "id": "9qfj8FqKeyzM"
      },
      "source": [
        "## Data preprocessing"
      ]
    },
    {
      "cell_type": "code",
      "source": [
        "import os\n",
        "csvPath = os.path.sep.join([\"/content/drive/My Drive/\", \"processed_images/data_processing/combined_cxr_metadata.csv\"])\n",
        "df = pd.read_csv(csvPath)\n",
        "images = []\n",
        "labels = []\n",
        "# loop over the rows of the COVID-19 data frame\n",
        "for (i, row) in df.iterrows():\n",
        "    label = round(row['OpacityScoreGlobal'])\n",
        "    imagePath = os.path.sep.join(['/content/drive/My Drive/processed_images',  row[\"filename\"]])\n",
        "    if not os.path.exists(imagePath):\n",
        "        continue\n",
        "    else: \n",
        "         #image = cv2.imread(path)\n",
        "         image = cv2.imread(imagePath)\n",
        "         #images.append(row['filename'])\n",
        "         labels.append(label)\n",
        "         images.append(image)\n",
        "    \n",
        "\n",
        "images = np.array(images) / 255.0\n",
        "np.savetxt('/content/drive/My Drive/processed_images/data_processing/data.csv', data, delimiter=',')\n",
        "np.savetxt(\"/content/drive/My Drive/processed_images/data_processing/labels.csv\")"
      ],
      "metadata": {
        "id": "inaaec2psq8n",
        "colab": {
          "base_uri": "https://localhost:8080/",
          "height": 236
        },
        "outputId": "2835ff8f-5295-440e-e28b-064780961db9"
      },
      "execution_count": null,
      "outputs": [
        {
          "output_type": "error",
          "ename": "KeyboardInterrupt",
          "evalue": "ignored",
          "traceback": [
            "\u001b[0;31m---------------------------------------------------------------------------\u001b[0m",
            "\u001b[0;31mKeyboardInterrupt\u001b[0m                         Traceback (most recent call last)",
            "\u001b[0;32m<ipython-input-4-72fda2b50bb3>\u001b[0m in \u001b[0;36m<module>\u001b[0;34m\u001b[0m\n\u001b[1;32m     12\u001b[0m     \u001b[0;32melse\u001b[0m\u001b[0;34m:\u001b[0m\u001b[0;34m\u001b[0m\u001b[0;34m\u001b[0m\u001b[0m\n\u001b[1;32m     13\u001b[0m          \u001b[0;31m#image = cv2.imread(path)\u001b[0m\u001b[0;34m\u001b[0m\u001b[0;34m\u001b[0m\u001b[0m\n\u001b[0;32m---> 14\u001b[0;31m          \u001b[0mimage\u001b[0m \u001b[0;34m=\u001b[0m \u001b[0mcv2\u001b[0m\u001b[0;34m.\u001b[0m\u001b[0mimread\u001b[0m\u001b[0;34m(\u001b[0m\u001b[0mimagePath\u001b[0m\u001b[0;34m)\u001b[0m\u001b[0;34m\u001b[0m\u001b[0;34m\u001b[0m\u001b[0m\n\u001b[0m\u001b[1;32m     15\u001b[0m          \u001b[0;31m#images.append(row['filename'])\u001b[0m\u001b[0;34m\u001b[0m\u001b[0;34m\u001b[0m\u001b[0m\n\u001b[1;32m     16\u001b[0m          \u001b[0mlabels\u001b[0m\u001b[0;34m.\u001b[0m\u001b[0mappend\u001b[0m\u001b[0;34m(\u001b[0m\u001b[0mlabel\u001b[0m\u001b[0;34m)\u001b[0m\u001b[0;34m\u001b[0m\u001b[0;34m\u001b[0m\u001b[0m\n",
            "\u001b[0;31mKeyboardInterrupt\u001b[0m: "
          ]
        }
      ]
    },
    {
      "cell_type": "code",
      "source": [
        "np.savetxt('/content/drive/My Drive/processed_images/data_processing/data.csv', images, delimiter=',')\n",
        "np.savetxt(\"/content/drive/My Drive/processed_images/data_processing/labels.csv\")"
      ],
      "metadata": {
        "id": "Wt0DUnkVFF5O"
      },
      "execution_count": null,
      "outputs": []
    },
    {
      "cell_type": "code",
      "source": [
        "len(labels)"
      ],
      "metadata": {
        "colab": {
          "base_uri": "https://localhost:8080/"
        },
        "id": "SNYLSwMntQMC",
        "outputId": "50bb0c0d-1651-499a-f1a8-5d8265fe07fb"
      },
      "execution_count": null,
      "outputs": [
        {
          "output_type": "execute_result",
          "data": {
            "text/plain": [
              "3000"
            ]
          },
          "metadata": {},
          "execution_count": 4
        }
      ]
    },
    {
      "cell_type": "code",
      "source": [
        "#labels[0:100]"
      ],
      "metadata": {
        "id": "tSUUbwZFtT5j"
      },
      "execution_count": null,
      "outputs": []
    },
    {
      "cell_type": "code",
      "source": [
        "from google.colab import drive\n",
        "drive.mount('/content/drive')"
      ],
      "metadata": {
        "colab": {
          "base_uri": "https://localhost:8080/"
        },
        "id": "BJwXTT_-10vV",
        "outputId": "012f143e-a872-4cf5-9873-8a3dda1e8667"
      },
      "execution_count": null,
      "outputs": [
        {
          "output_type": "stream",
          "name": "stdout",
          "text": [
            "Mounted at /content/drive\n"
          ]
        }
      ]
    },
    {
      "cell_type": "code",
      "source": [
        "#normal_dataset_path=\"/content/drive/My Drive/data-samples/normal\""
      ],
      "metadata": {
        "id": "isVBqwaj2fmR"
      },
      "execution_count": null,
      "outputs": []
    },
    {
      "cell_type": "code",
      "execution_count": null,
      "metadata": {
        "_cell_guid": "79c7e3d0-c299-4dcb-8224-4455121ee9b0",
        "_uuid": "d629ff2d2480ee46fbb7e2d37f6b5fab8052498a",
        "id": "a14hlZ93eyzM"
      },
      "outputs": [],
      "source": [
        "# initialize the initial learning rate, number of epochs to train for,\n",
        "# and batch size\n",
        "INIT_LR = 1e-3\n",
        "EPOCHS = 30\n",
        "BS = 8"
      ]
    },
    {
      "cell_type": "code",
      "execution_count": null,
      "metadata": {
        "colab": {
          "base_uri": "https://localhost:8080/"
        },
        "id": "7Kn8nhnEeyzN",
        "outputId": "ee40dafe-1c0f-4971-9206-9f544ad08755"
      },
      "outputs": [
        {
          "output_type": "stream",
          "name": "stdout",
          "text": [
            "[INFO] loading images...\n"
          ]
        }
      ],
      "source": [
        "# grab the list of images in our dataset directory, then initialize\n",
        "# the list of data (i.e., images) and class images\n",
        "print(\"[INFO] loading images...\")\n",
        "imagePaths = list(paths.list_images('/content/drive/My Drive/processed_images'))\n",
        "data = []\n",
        "#labels = []\n",
        "# loop over the image paths\n",
        "\n",
        "for i in range(0, len(all_images)): \n",
        "  #print(i)\n",
        "  path = '/content/drive/My Drive/processed_images' + \"\" + \"/{}\".format(all_images[i])\n",
        "  if not os.path.exists(path):\n",
        "    path = all_images[i]\n",
        "  image = cv2.imread(path)\n",
        "  image = cv2.imread(imagePath)\n",
        "  #image = cv2.cvtColor(image, cv2.COLOR_BGR2RGB)\n",
        "  #image = cv2.resize(image, (224, 224))\n",
        "  data.append(image)\n",
        "\n",
        "data = np.array(data) / 255.0"
      ]
    },
    {
      "cell_type": "code",
      "source": [
        "#data = np.array(images)/255.0"
      ],
      "metadata": {
        "id": "-UDfTOlOfvvt"
      },
      "execution_count": null,
      "outputs": []
    },
    {
      "cell_type": "code",
      "source": [
        "labels = np.array(labels)\n",
        "#np_array_labels.shape"
      ],
      "metadata": {
        "id": "-J7U5o9ZgHHN"
      },
      "execution_count": null,
      "outputs": []
    },
    {
      "cell_type": "code",
      "source": [
        "#print(np_array_labels )"
      ],
      "metadata": {
        "colab": {
          "base_uri": "https://localhost:8080/"
        },
        "id": "jZzW_zXf42Eu",
        "outputId": "d9ac76ce-f66a-47f5-b025-619dda88f8a0"
      },
      "execution_count": null,
      "outputs": [
        {
          "output_type": "stream",
          "name": "stdout",
          "text": [
            "[1 3 3 4 2 2 4 5 2 1 0 1 1 2 1 3 4 4 2 3 4 2 2 2 4 0 0 2 5 6 3 2 3 2 3 4 3\n",
            " 4 4 2 4 2 2 2 4 4 3 2 0 0 3 2 1 0 0 1 2 4 1 2 3 3 2 1 2 4 0 6 4 3 5 2 0 1\n",
            " 1 3 3 3 5 4 6 2 4 1 1 0 1 1 3 3 4 1 3 0 2 3 2 3 2 2 2 3 2 2 2 3 2 4 4 3 2\n",
            " 2 1 2 3 1 2 0 4 4 2 2 2 2 2 2 2 2 2 2 2 2 2 2 3 3 3 2 2 3 4 3 3 3 2 2 2 3\n",
            " 1 2 3 3 3 3 3 4 4 4 4 4 3 4 4 4 4 4 1 0 0 2 3 2 2 2 2 2 0 3 1 1 1 1 2 2 2\n",
            " 2 4 2 2 2 2 1 2 2 1 2 3 3 3 3 3 3 4 4 3 3 4 1 1 2 1 2 2 0 2 1 3 2 2 4 0 2\n",
            " 2 1 2 2 4 4 4 4 4 4 5 2 2 2 2 2 2 2 2 2 2 2 2 2 2 2 2 2 2 3 2 4 2 1 1 2 2\n",
            " 2 2 2 2 3 3 3 2 1 3 2 3 0 1 2 2 4 4 2 3 3 2 2 3 2 1 3 4 4 4 4 4 2 2 2 2 2\n",
            " 2 3 2 3 3 2 1 1 2 2 3 3 2 3 3 2 2 2 3 2 4 3 2 2 2 2 3 3 4 2 2 2 1 2 2 2 2\n",
            " 2 2 2 2 3 2 3 1 2 2 2 2 2 2 2 2 2 1 1 2 2 2 2 3 3 2 2 2 2 2 2 2 2 2 2 2 2\n",
            " 2 3 2 4 3 4 5 5 3 3 2 2 2 2 2 2 2 3 3 2 4 0 1 0 0 2 2 2 2 2 2 2 3 3 3 1 3\n",
            " 2 2 4 3 3 2 2 2 2 2 2 2 2 2 3 4 4 4 0 2 2 2 2 2 2 2 2 2 2 2 2 2 2 2 2 2 2\n",
            " 3 4 0 2 2 2 2 2 2 2 2 1 2 2 2 2 2 2 2 6 4 3 4 4 4 4 4 4 3 4 3 4 4 4 4 2 3\n",
            " 2 2 3 4 4 6 2 3 3 2 2 2 2 2 2 0 2 2 2 2 2 4 4 3 4 3 3 4 2 3 3 3 3 3 4 4 4\n",
            " 4 4 4 4 4 4 4 4 4 4 4 1 2 3 3 3 3 3 3 3 3 2 3 4 3 3 3 4 3 4 2 2 2 2 2 1 2\n",
            " 2 2 3 3 3 2 3 2 1 3 2 3 2 3 0 0 2 3 3 3 3 2 3 3 4 4 4 4 4 4 4 0 1 1 2 2 2\n",
            " 1 2 1 2 2 3 2 3 3 3 3 2 2 2 2 4 4 2 3 3 4 3 6 3 4 2 2 3 3 3 2 3 3 3 3 2 2\n",
            " 3 4 4 3 2 2 2 2 3 3 3 3 2 2 2 3 3 3 2 2 2 2 2 2 3 3 2 1 2 3 3 4 3 3 5 5 2\n",
            " 2 3 2 3 3 3 4 3 3 4 2 3 3 4 2 2 3 3 3 2 2 2 2 2 2 2 2 3 3 3 3 0 0 3 1 4 4\n",
            " 4 3 2 0 1 3 4 4 3 0 4 4 6 6 6 4 4 4 3 0 2 2 2 3 2 2 2 2 2 2 2 2 4 0 2 4 4\n",
            " 4 4 4 6 6 4 4 5 5 3 3 3 2 2 2 3 4 4 4 2 3 0 4 4 4 0 1 4 3 0 2 0 2 3 3 4 3\n",
            " 3 4 4 4 4 4 4 3 0 2 2 2 2 2 2 2 2 2 2 2 2 3 2 2 2 0 3 4 4 2 2 3 3 3 2 2 2\n",
            " 2 2 3 3 2 3 2 3 3 3 3 3 4 4 4 3 4 4 3 3 4 4 4 3 3 3 3 2 2 2 2 2 2 2 2 2 3\n",
            " 3 2 2 2 2 2 2 0 0 1 3 3 2 3 2 2 2 2 2 3 2 1 3 4 4 4 3 3 2 2 3 2 2 3 2 2 2\n",
            " 2 2 2 3 3 2 3 3 2 2 0 3 2 1 1 0 2 4 4 4 4 3 4 4 4 3 3 3 3 3 4 4 3 3 3 3 4\n",
            " 4 3 4 0 3 2 3 2 3 3 3 4 3 4 3 1 3 0 3 3 2 4 4 4 4 4 3 3 2 4 3 4 2 4 2 4 2\n",
            " 2 3 3 4 4 3 3 4 4 4 4 4 4 4 4 3 4 3 4 3 3 3 3 3 3 3 0 1 4 4 4 3 2 3 3 4 2\n",
            " 3]\n"
          ]
        }
      ]
    },
    {
      "cell_type": "markdown",
      "metadata": {
        "id": "q3VAPD7GeyzN"
      },
      "source": [
        "## Model"
      ]
    },
    {
      "cell_type": "code",
      "execution_count": null,
      "metadata": {
        "id": "B8UXtbCmeyzN"
      },
      "outputs": [],
      "source": [
        "# perform one-hot encoding on the labels\n",
        "from sklearn.preprocessing import MultiLabelBinarizer\n",
        "mlb = MultiLabelBinarizer()\n",
        "#np_array_labels = mlb.fit_transform(np_array_labels)\n",
        "#np_array_labels = mlb.fit_transform(np_array_labels)\n",
        "lb = LabelBinarizer()\n",
        "np_array_labels = lb.fit_transform(labels)\n",
        "#np_array_labels = to_categorical(np_array_labels)\n",
        "# partition the data into training and testing splits using 80% of\n",
        "# the data for training and the remaining 20% for testing\n",
        "#(trainX, testX, trainY, testY) = train_test_split(data, np_array_labels, test_size=0.20, random_state=42, shuffle=True)\n",
        "# initialize the training data augmentation object\n",
        "#trainAug = ImageDataGenerator(rotation_range=15, fill_mode=\"nearest\")"
      ]
    },
    {
      "cell_type": "code",
      "source": [
        "np_array_labels[1]"
      ],
      "metadata": {
        "colab": {
          "base_uri": "https://localhost:8080/",
          "height": 166
        },
        "id": "Yp0XIPABTDJS",
        "outputId": "9b2db3d0-fe3b-48ba-fd44-c0fc26978eb1"
      },
      "execution_count": null,
      "outputs": [
        {
          "output_type": "error",
          "ename": "IndexError",
          "evalue": "ignored",
          "traceback": [
            "\u001b[0;31m---------------------------------------------------------------------------\u001b[0m",
            "\u001b[0;31mIndexError\u001b[0m                                Traceback (most recent call last)",
            "\u001b[0;32m<ipython-input-45-d03634937344>\u001b[0m in \u001b[0;36m<module>\u001b[0;34m\u001b[0m\n\u001b[0;32m----> 1\u001b[0;31m \u001b[0mnp_array_labels\u001b[0m\u001b[0;34m[\u001b[0m\u001b[0;36m1\u001b[0m\u001b[0;34m]\u001b[0m\u001b[0;34m\u001b[0m\u001b[0;34m\u001b[0m\u001b[0m\n\u001b[0m",
            "\u001b[0;31mIndexError\u001b[0m: index 1 is out of bounds for axis 0 with size 1"
          ]
        }
      ]
    },
    {
      "cell_type": "code",
      "source": [
        "(trainX, testX, trainY, testY) = train_test_split(images, np_array_labels, test_size=0.20, random_state=42, shuffle=True)"
      ],
      "metadata": {
        "id": "fkM4iG8n5Q4K"
      },
      "execution_count": null,
      "outputs": []
    },
    {
      "cell_type": "code",
      "source": [
        "trainAug = ImageDataGenerator(rotation_range=15, fill_mode=\"nearest\")"
      ],
      "metadata": {
        "id": "Da0TjB9K5S7c"
      },
      "execution_count": null,
      "outputs": []
    },
    {
      "cell_type": "code",
      "execution_count": null,
      "metadata": {
        "id": "y0W4gtEAeyzS"
      },
      "outputs": [],
      "source": [
        "trainAug = ImageDataGenerator(rotation_range=15, fill_mode=\"nearest\")\n",
        "# load the VGG16 network, ensuring the head FC layer sets are left\n",
        "# off\n",
        "baseModel = VGG16(weights=\"imagenet\", include_top=False, input_tensor=Input(shape=(224, 224, 3)))\n",
        "# construct the head of the model that will be placed on top of the\n",
        "# the base model\n",
        "headModel = baseModel.output\n",
        "headModel = AveragePooling2D(pool_size=(4, 4))(headModel)\n",
        "headModel = Flatten(name=\"flatten\")(headModel)\n",
        "headModel = Dense(128, activation=\"relu\")(headModel)\n",
        "headModel = Dropout(0.6)(headModel)\n",
        "headModel = Dense(7, activation=\"softmax\")(headModel)\n",
        "# place the head FC model on top of the base model (this will become\n",
        "# the actual model we will train)\n",
        "model = Model(inputs=baseModel.input, outputs=headModel)\n",
        "# loop over all layers in the base model and freeze them so they will\n",
        "# *not* be updated during the first training process\n",
        "for layer in baseModel.layers:\n",
        "    layer.trainable = False\n",
        "\n",
        "print(\"[INFO] compiling model...\")\n",
        "opt = Adam(lr=INIT_LR)\n",
        "model.compile(loss=\"categorical_crossentropy\", optimizer=opt, metrics=[\"accuracy\"])\n",
        "\n",
        "# train the head of the network\n",
        "print(\"[INFO] training head...\")\n",
        "H = model.fit_generator(\n",
        "    trainAug.flow(trainX, trainY, batch_size=BS),\n",
        "    steps_per_epoch=len(trainX) // BS,\n",
        "    #validation_data=(testX, testY),\n",
        "    #validation_steps=len(testX) // BS,\n",
        "    epochs=EPOCHS)\n"
      ]
    },
    {
      "cell_type": "markdown",
      "metadata": {
        "id": "Zc1PIklkeyzU"
      },
      "source": [
        "### Training"
      ]
    },
    {
      "cell_type": "code",
      "source": [],
      "metadata": {
        "id": "16FztNXCJErU"
      },
      "execution_count": null,
      "outputs": []
    },
    {
      "cell_type": "code",
      "source": [
        "print(\"[INFO] compiling model...\")\n",
        "opt = Adam(lr=INIT_LR)\n",
        "model.compile(loss=\"categorical_crossentropy\", optimizer=opt, metrics=[\"accuracy\"])\n",
        "\n",
        "# train the head of the network\n",
        "print(\"[INFO] training head...\")\n",
        "H = model.fit_generator(\n",
        "    trainAug.flow(trainX, trainY, batch_size=BS),\n",
        "    steps_per_epoch=len(trainX) // BS,\n",
        "    #validation_data=(testX, testY),\n",
        "    #validation_steps=len(testX) // BS,\n",
        "    epochs=EPOCHS)\n"
      ],
      "metadata": {
        "colab": {
          "base_uri": "https://localhost:8080/"
        },
        "id": "EJI9DM6Tt0X-",
        "outputId": "ac9677b2-c6d0-4155-d6f1-11304bb4203d"
      },
      "execution_count": null,
      "outputs": [
        {
          "output_type": "stream",
          "name": "stderr",
          "text": [
            "WARNING:absl:`lr` is deprecated, please use `learning_rate` instead, or use the legacy optimizer, e.g.,tf.keras.optimizers.legacy.Adam.\n"
          ]
        },
        {
          "output_type": "stream",
          "name": "stdout",
          "text": [
            "[INFO] compiling model...\n",
            "[INFO] training head...\n"
          ]
        },
        {
          "output_type": "stream",
          "name": "stderr",
          "text": [
            "<ipython-input-12-58d6629ef9cc>:7: UserWarning: `Model.fit_generator` is deprecated and will be removed in a future version. Please use `Model.fit`, which supports generators.\n",
            "  H = model.fit_generator(\n"
          ]
        },
        {
          "output_type": "stream",
          "name": "stdout",
          "text": [
            "Epoch 1/30\n",
            "300/300 [==============================] - 43s 93ms/step - loss: 1.6350 - accuracy: 0.2883\n",
            "Epoch 2/30\n",
            "300/300 [==============================] - 28s 94ms/step - loss: 1.5443 - accuracy: 0.3254\n",
            "Epoch 3/30\n",
            "300/300 [==============================] - 28s 93ms/step - loss: 1.4826 - accuracy: 0.3512\n",
            "Epoch 4/30\n",
            "300/300 [==============================] - 28s 92ms/step - loss: 1.4761 - accuracy: 0.3537\n",
            "Epoch 5/30\n",
            "300/300 [==============================] - 28s 92ms/step - loss: 1.4557 - accuracy: 0.3579\n",
            "Epoch 6/30\n",
            "300/300 [==============================] - 28s 94ms/step - loss: 1.4294 - accuracy: 0.3750\n",
            "Epoch 7/30\n",
            "300/300 [==============================] - 28s 92ms/step - loss: 1.4271 - accuracy: 0.3929\n",
            "Epoch 8/30\n",
            "300/300 [==============================] - 28s 93ms/step - loss: 1.4069 - accuracy: 0.3750\n",
            "Epoch 9/30\n",
            "300/300 [==============================] - 28s 93ms/step - loss: 1.4011 - accuracy: 0.3842\n",
            "Epoch 10/30\n",
            "300/300 [==============================] - 28s 93ms/step - loss: 1.3875 - accuracy: 0.3996\n",
            "Epoch 11/30\n",
            "300/300 [==============================] - 28s 92ms/step - loss: 1.3885 - accuracy: 0.3992\n",
            "Epoch 12/30\n",
            "300/300 [==============================] - 28s 94ms/step - loss: 1.3817 - accuracy: 0.4038\n",
            "Epoch 13/30\n",
            "300/300 [==============================] - 28s 93ms/step - loss: 1.3761 - accuracy: 0.4029\n",
            "Epoch 14/30\n",
            "300/300 [==============================] - 28s 93ms/step - loss: 1.3802 - accuracy: 0.3983\n",
            "Epoch 15/30\n",
            "300/300 [==============================] - 28s 92ms/step - loss: 1.3666 - accuracy: 0.4058\n",
            "Epoch 16/30\n",
            "300/300 [==============================] - 28s 92ms/step - loss: 1.3615 - accuracy: 0.4187\n",
            "Epoch 17/30\n",
            "300/300 [==============================] - 28s 93ms/step - loss: 1.3577 - accuracy: 0.4121\n",
            "Epoch 18/30\n",
            "300/300 [==============================] - 28s 94ms/step - loss: 1.3513 - accuracy: 0.4013\n",
            "Epoch 19/30\n",
            "300/300 [==============================] - 28s 93ms/step - loss: 1.3434 - accuracy: 0.4246\n",
            "Epoch 20/30\n",
            "300/300 [==============================] - 28s 92ms/step - loss: 1.3347 - accuracy: 0.4221\n",
            "Epoch 21/30\n",
            "300/300 [==============================] - 28s 93ms/step - loss: 1.3317 - accuracy: 0.4321\n",
            "Epoch 22/30\n",
            "300/300 [==============================] - 28s 92ms/step - loss: 1.3296 - accuracy: 0.4183\n",
            "Epoch 23/30\n",
            "300/300 [==============================] - 28s 92ms/step - loss: 1.3297 - accuracy: 0.4083\n",
            "Epoch 24/30\n",
            "300/300 [==============================] - 28s 93ms/step - loss: 1.3325 - accuracy: 0.4121\n",
            "Epoch 25/30\n",
            "300/300 [==============================] - 28s 94ms/step - loss: 1.3178 - accuracy: 0.4246\n",
            "Epoch 26/30\n",
            "300/300 [==============================] - 28s 92ms/step - loss: 1.3318 - accuracy: 0.4179\n",
            "Epoch 27/30\n",
            "300/300 [==============================] - 28s 92ms/step - loss: 1.3266 - accuracy: 0.4221\n",
            "Epoch 28/30\n",
            "300/300 [==============================] - 28s 94ms/step - loss: 1.3125 - accuracy: 0.4212\n",
            "Epoch 29/30\n",
            "300/300 [==============================] - 28s 94ms/step - loss: 1.3207 - accuracy: 0.4267\n",
            "Epoch 30/30\n",
            "300/300 [==============================] - 29s 97ms/step - loss: 1.3061 - accuracy: 0.4358\n"
          ]
        }
      ]
    },
    {
      "cell_type": "markdown",
      "metadata": {
        "id": "XsNKxQ35eyzV"
      },
      "source": [
        "### Plot trining metrics"
      ]
    },
    {
      "cell_type": "code",
      "execution_count": null,
      "metadata": {
        "colab": {
          "base_uri": "https://localhost:8080/",
          "height": 282
        },
        "id": "bIY4D2EreyzV",
        "outputId": "bba3a44b-8b28-497b-9742-c237c170b1a3"
      },
      "outputs": [
        {
          "output_type": "display_data",
          "data": {
            "text/plain": [
              "<Figure size 432x288 with 1 Axes>"
            ],
            "image/png": "[encoded data removed]"
          },
          "metadata": {}
        }
      ],
      "source": [
        "accs = H.history['accuracy']\n",
        "val_accs = H.history['val_accuracy']\n",
        "\n",
        "plt.plot(range(len(accs)),accs, label = 'Training_accuracy')\n",
        "plt.plot(range(len(accs)),val_accs, label = 'Validation_accuracy')\n",
        "plt.ylabel('accuracy')\n",
        "plt.xlabel('epochs')\n",
        "plt.legend()\n",
        "plt.show()"
      ]
    },
    {
      "cell_type": "code",
      "source": [],
      "metadata": {
        "id": "narHRwF2-K3Y"
      },
      "execution_count": null,
      "outputs": []
    },
    {
      "cell_type": "code",
      "source": [],
      "metadata": {
        "id": "K4TiVfcb-Lq3"
      },
      "execution_count": null,
      "outputs": []
    },
    {
      "cell_type": "code",
      "execution_count": null,
      "metadata": {
        "colab": {
          "base_uri": "https://localhost:8080/",
          "height": 282
        },
        "id": "bgH1gGMueyzW",
        "outputId": "cb122ebd-b451-48d5-d1d9-f8759f3c044d"
      },
      "outputs": [
        {
          "output_type": "display_data",
          "data": {
            "text/plain": [
              "<Figure size 432x288 with 1 Axes>"
            ],
            "image/png": "[encoded data removed]"
          },
          "metadata": {}
        }
      ],
      "source": [
        "loss = H.history['loss']\n",
        "val_loss = H.history['val_loss']\n",
        "\n",
        "plt.plot(range(len(accs)),loss, label = 'Training_loss')\n",
        "plt.plot(range(len(accs)),val_loss, label = 'Validation_loss')\n",
        "plt.ylabel('loss')\n",
        "plt.xlabel('epochs')\n",
        "plt.legend()\n",
        "plt.show()"
      ]
    },
    {
      "cell_type": "markdown",
      "metadata": {
        "id": "PJM0D1O7eyzW"
      },
      "source": [
        "**Accuracy and Loss curve in single graph**"
      ]
    },
    {
      "cell_type": "code",
      "execution_count": null,
      "metadata": {
        "colab": {
          "base_uri": "https://localhost:8080/",
          "height": 299
        },
        "id": "oWsz-kMLeyzX",
        "outputId": "fbaca618-16b6-47c4-f062-13c62aa01cce"
      },
      "outputs": [
        {
          "output_type": "display_data",
          "data": {
            "text/plain": [
              "<Figure size 432x288 with 1 Axes>"
            ],
            "image/png": "[encoded data removed]"
          },
          "metadata": {}
        }
      ],
      "source": [
        "# plot the training loss and accuracy\n",
        "N = EPOCHS\n",
        "plt.style.use(\"ggplot\")\n",
        "plt.figure()\n",
        "plt.plot(np.arange(0, N), H.history[\"loss\"], label=\"train_loss\")\n",
        "plt.plot(np.arange(0, N), H.history[\"val_loss\"], label=\"val_loss\")\n",
        "plt.plot(np.arange(0, N), H.history[\"accuracy\"], label=\"train_acc\")\n",
        "plt.plot(np.arange(0, N), H.history[\"val_accuracy\"], label=\"val_acc\")\n",
        "plt.title(\"Training Loss and Accuracy on COVID-19 Dataset\")\n",
        "plt.xlabel(\"Epoch #\")\n",
        "plt.ylabel(\"Loss/Accuracy\")\n",
        "plt.legend(loc=\"lower left\")\n",
        "plt.savefig(\"plot.png\")"
      ]
    },
    {
      "cell_type": "markdown",
      "metadata": {
        "id": "Wm3h9fcDeyzY"
      },
      "source": [
        "### Evaluation"
      ]
    },
    {
      "cell_type": "code",
      "execution_count": null,
      "metadata": {
        "colab": {
          "base_uri": "https://localhost:8080/"
        },
        "id": "ugcwUBpneyzY",
        "outputId": "9cb7a3f7-4511-4c42-bfaf-5a37975a5adc"
      },
      "outputs": [
        {
          "output_type": "stream",
          "name": "stdout",
          "text": [
            "[INFO] evaluating network...\n",
            "10/10 [==============================] - 0s 9ms/step\n",
            "[1 1 1 1 1 1 1 1 1 1 1 1 1 1 1 1 1 1 1 1 1 1 1 1 1 1 1 1 1 1 1 1 1 1 1 1 1\n",
            " 1 1 1 1 1 1 1 1 1 1 1 1 1 1 1 1 1 1 1 1 1 1 1 1 1 1 1 1 1 1 1 1 1 1 1 1 1\n",
            " 1 1 1 1 1]\n",
            "[1 1 1 1 0 1 1 1 1 1 1 1 1 1 1 1 1 1 1 1 1 0 1 1 1 1 1 1 1 1 1 1 1 1 1 0 1\n",
            " 1 1 1 1 1 0 1 1 1 1 1 1 1 1 1 1 0 0 1 1 1 1 1 1 1 1 1 1 1 1 1 1 1 1 1 1 1\n",
            " 1 1 1 1 1]\n"
          ]
        }
      ],
      "source": [
        "# make predictions on the testing set\n",
        "print(\"[INFO] evaluating network...\")\n",
        "predIdxs = model.predict(testX, batch_size=BS)\n",
        "# for each image in the testing set we need to find the index of the\n",
        "# label with corresponding largest predicted probability\n",
        "predIdxs = np.argmax(predIdxs, axis=1)\n",
        "# show a nicely formatted classification report\n",
        "print(predIdxs)\n",
        "print(testY.argmax(axis=1))\n",
        "#print(classification_report(testY.argmax(axis=1), predIdxs, target_names=lb.classes_))"
      ]
    },
    {
      "cell_type": "markdown",
      "metadata": {
        "id": "ZFRcUjOfeyzY"
      },
      "source": [
        "#### Confusion matrix"
      ]
    },
    {
      "cell_type": "code",
      "execution_count": null,
      "metadata": {
        "colab": {
          "base_uri": "https://localhost:8080/"
        },
        "id": "ktXsi6H5eyzY",
        "outputId": "ba581ad3-bc21-4bea-d4dc-221044e2f67e"
      },
      "outputs": [
        {
          "output_type": "stream",
          "name": "stdout",
          "text": [
            "[[ 0  6]\n",
            " [ 0 73]]\n",
            "acc: 0.9241\n",
            "sensitivity: 0.0000\n",
            "specificity: 1.0000\n"
          ]
        }
      ],
      "source": [
        "# compute the confusion matrix and and use it to derive the raw\n",
        "# accuracy, sensitivity, and specificity\n",
        "cm = confusion_matrix(testY.argmax(axis=1), predIdxs)\n",
        "total = sum(sum(cm))\n",
        "acc = (cm[0, 0] + cm[1, 1]) / total\n",
        "sensitivity = cm[0, 0] / (cm[0, 0] + cm[0, 1])\n",
        "specificity = cm[1, 1] / (cm[1, 0] + cm[1, 1])\n",
        "# show the confusion matrix, accuracy, sensitivity, and specificity\n",
        "print(cm)\n",
        "print(\"acc: {:.4f}\".format(acc))\n",
        "print(\"sensitivity: {:.4f}\".format(sensitivity))\n",
        "print(\"specificity: {:.4f}\".format(specificity))"
      ]
    },
    {
      "cell_type": "markdown",
      "metadata": {
        "id": "2I07JSmYeyzZ"
      },
      "source": [
        "## Credits\n",
        "This notebook is based on this tutorial - [link](https://www.pyimagesearch.com/2020/03/16/detecting-covid-19-in-x-ray-images-with-keras-tensorflow-and-deep-learning/)"
      ]
    },
    {
      "cell_type": "code",
      "source": [
        "import re\n",
        "import os\n",
        "import numpy as np\n",
        "import pandas as pd\n",
        "import tensorflow as tf\n",
        "#from kaggle_datasets import KaggleDatasets\n",
        "import matplotlib.pyplot as plt\n",
        "from sklearn.model_selection import train_test_split\n",
        "\n",
        "def conv_block(filters):\n",
        "    block = tf.keras.Sequential([\n",
        "        tf.keras.layers.SeparableConv2D(filters, 3, activation='relu', padding='same'),\n",
        "        tf.keras.layers.SeparableConv2D(filters, 3, activation='relu', padding='same'),\n",
        "        tf.keras.layers.BatchNormalization(),\n",
        "        tf.keras.layers.MaxPool2D()\n",
        "    ]\n",
        "    )\n",
        "    \n",
        "    return block"
      ],
      "metadata": {
        "id": "qQp7Q7T2-N5Y"
      },
      "execution_count": null,
      "outputs": []
    },
    {
      "cell_type": "code",
      "source": [
        "def dense_block(units, dropout_rate):\n",
        "    block = tf.keras.Sequential([\n",
        "        tf.keras.layers.Dense(units, activation='relu'),\n",
        "        tf.keras.layers.BatchNormalization(),\n",
        "        tf.keras.layers.Dropout(dropout_rate)\n",
        "    ])\n",
        "    \n",
        "    return block"
      ],
      "metadata": {
        "id": "lptvOqp9-OPb"
      },
      "execution_count": null,
      "outputs": []
    },
    {
      "cell_type": "code",
      "source": [
        "\n",
        "\n",
        "def build_model():\n",
        "    model = tf.keras.Sequential([\n",
        "        tf.keras.Input(shape=(224, 224, 3)),\n",
        "        \n",
        "        tf.keras.layers.Conv2D(16, 3, activation='relu', padding='same'),\n",
        "        tf.keras.layers.Conv2D(16, 3, activation='relu', padding='same'),\n",
        "        tf.keras.layers.MaxPool2D(),\n",
        "        \n",
        "        conv_block(32),\n",
        "        conv_block(64),\n",
        "        \n",
        "        conv_block(128),\n",
        "        tf.keras.layers.Dropout(0.2),\n",
        "        \n",
        "        conv_block(256),\n",
        "        tf.keras.layers.Dropout(0.2),\n",
        "        \n",
        "        tf.keras.layers.Flatten(),\n",
        "        dense_block(512, 0.7),\n",
        "        dense_block(128, 0.5),\n",
        "        dense_block(64, 0.3),\n",
        "        \n",
        "        tf.keras.layers.Dense(2, activation='softmax')\n",
        "    ])\n",
        "    \n",
        "    return model"
      ],
      "metadata": {
        "id": "T3adTJUJ-YhT"
      },
      "execution_count": null,
      "outputs": []
    },
    {
      "cell_type": "code",
      "source": [
        "#with strategy.scope():\n",
        "model = build_model()\n",
        "\n",
        "METRICS = [\n",
        "        'accuracy',\n",
        "        tf.keras.metrics.Precision(name='precision'),\n",
        "        tf.keras.metrics.Recall(name='recall')\n",
        "    ]\n",
        "    \n",
        "model.compile(\n",
        "        optimizer='adam',\n",
        "        loss='binary_crossentropy',\n",
        "        metrics=METRICS\n",
        "    )"
      ],
      "metadata": {
        "id": "zd1IHEoh-elZ"
      },
      "execution_count": null,
      "outputs": []
    },
    {
      "cell_type": "code",
      "source": [
        "history = model.fit(\n",
        "    x=trainX, y=trainY,\n",
        "    steps_per_epoch=100,\n",
        "    epochs=EPOCHS,\n",
        "    validation_data=(testX, testY),\n",
        "    validation_steps=10\n",
        "    #class_weight=class_weight,\n",
        ")"
      ],
      "metadata": {
        "colab": {
          "base_uri": "https://localhost:8080/"
        },
        "id": "uzk4hCNO-j1r",
        "outputId": "15def921-5d6c-49c6-c5c1-5447cdb2ef3a"
      },
      "execution_count": null,
      "outputs": [
        {
          "output_type": "stream",
          "name": "stdout",
          "text": [
            "Epoch 1/30\n",
            "100/100 [==============================] - 6s 34ms/step - loss: 0.8926 - accuracy: 0.5300 - precision: 0.5300 - recall: 0.5300 - val_loss: 0.6879 - val_accuracy: 0.6944 - val_precision: 0.6944 - val_recall: 0.6944\n",
            "Epoch 2/30\n",
            "100/100 [==============================] - 3s 27ms/step - loss: 0.8271 - accuracy: 0.5420 - precision: 0.5420 - recall: 0.5420 - val_loss: 0.6333 - val_accuracy: 0.6944 - val_precision: 0.6944 - val_recall: 0.6944\n",
            "Epoch 3/30\n",
            "100/100 [==============================] - 3s 26ms/step - loss: 0.7594 - accuracy: 0.5960 - precision: 0.5960 - recall: 0.5960 - val_loss: 0.6269 - val_accuracy: 0.6944 - val_precision: 0.6944 - val_recall: 0.6944\n",
            "Epoch 4/30\n",
            "100/100 [==============================] - 3s 27ms/step - loss: 0.7163 - accuracy: 0.6100 - precision: 0.6100 - recall: 0.6100 - val_loss: 0.6611 - val_accuracy: 0.6944 - val_precision: 0.6944 - val_recall: 0.6944\n",
            "Epoch 5/30\n",
            "100/100 [==============================] - 3s 26ms/step - loss: 0.7384 - accuracy: 0.6220 - precision: 0.6220 - recall: 0.6220 - val_loss: 0.6171 - val_accuracy: 0.6944 - val_precision: 0.6944 - val_recall: 0.6944\n",
            "Epoch 6/30\n",
            "100/100 [==============================] - 3s 26ms/step - loss: 0.6950 - accuracy: 0.6300 - precision: 0.6300 - recall: 0.6300 - val_loss: 0.6295 - val_accuracy: 0.6944 - val_precision: 0.6944 - val_recall: 0.6944\n",
            "Epoch 7/30\n",
            "100/100 [==============================] - 3s 26ms/step - loss: 0.7215 - accuracy: 0.6180 - precision: 0.6180 - recall: 0.6180 - val_loss: 0.6281 - val_accuracy: 0.6944 - val_precision: 0.6944 - val_recall: 0.6944\n",
            "Epoch 8/30\n",
            "100/100 [==============================] - 3s 27ms/step - loss: 0.6794 - accuracy: 0.6560 - precision: 0.6560 - recall: 0.6560 - val_loss: 0.6589 - val_accuracy: 0.6944 - val_precision: 0.6944 - val_recall: 0.6944\n",
            "Epoch 9/30\n",
            "100/100 [==============================] - 3s 26ms/step - loss: 0.7019 - accuracy: 0.6400 - precision: 0.6400 - recall: 0.6400 - val_loss: 0.6840 - val_accuracy: 0.6944 - val_precision: 0.6944 - val_recall: 0.6944\n",
            "Epoch 10/30\n",
            "100/100 [==============================] - 3s 26ms/step - loss: 0.6842 - accuracy: 0.6560 - precision: 0.6560 - recall: 0.6560 - val_loss: 0.6171 - val_accuracy: 0.6944 - val_precision: 0.6944 - val_recall: 0.6944\n",
            "Epoch 11/30\n",
            "100/100 [==============================] - 3s 26ms/step - loss: 0.6599 - accuracy: 0.6640 - precision: 0.6640 - recall: 0.6640 - val_loss: 0.6164 - val_accuracy: 0.6944 - val_precision: 0.6944 - val_recall: 0.6944\n",
            "Epoch 12/30\n",
            "100/100 [==============================] - 3s 27ms/step - loss: 0.6886 - accuracy: 0.6500 - precision: 0.6500 - recall: 0.6500 - val_loss: 0.7192 - val_accuracy: 0.6944 - val_precision: 0.6944 - val_recall: 0.6944\n",
            "Epoch 13/30\n",
            "100/100 [==============================] - 3s 26ms/step - loss: 0.6566 - accuracy: 0.6640 - precision: 0.6640 - recall: 0.6640 - val_loss: 0.8693 - val_accuracy: 0.6944 - val_precision: 0.6944 - val_recall: 0.6944\n",
            "Epoch 14/30\n",
            "100/100 [==============================] - 3s 27ms/step - loss: 0.6380 - accuracy: 0.6660 - precision: 0.6660 - recall: 0.6660 - val_loss: 0.6323 - val_accuracy: 0.6944 - val_precision: 0.6944 - val_recall: 0.6944\n",
            "Epoch 15/30\n",
            "100/100 [==============================] - 3s 27ms/step - loss: 0.6666 - accuracy: 0.6580 - precision: 0.6580 - recall: 0.6580 - val_loss: 0.6990 - val_accuracy: 0.6944 - val_precision: 0.6944 - val_recall: 0.6944\n",
            "Epoch 16/30\n",
            "100/100 [==============================] - 3s 26ms/step - loss: 0.6561 - accuracy: 0.6700 - precision: 0.6700 - recall: 0.6700 - val_loss: 0.6304 - val_accuracy: 0.6944 - val_precision: 0.6944 - val_recall: 0.6944\n",
            "Epoch 17/30\n",
            "100/100 [==============================] - 3s 25ms/step - loss: 0.6295 - accuracy: 0.6960 - precision: 0.6960 - recall: 0.6960 - val_loss: 0.6192 - val_accuracy: 0.6944 - val_precision: 0.6944 - val_recall: 0.6944\n",
            "Epoch 18/30\n",
            "100/100 [==============================] - 3s 27ms/step - loss: 0.6549 - accuracy: 0.6680 - precision: 0.6680 - recall: 0.6680 - val_loss: 0.6311 - val_accuracy: 0.6944 - val_precision: 0.6944 - val_recall: 0.6944\n",
            "Epoch 19/30\n",
            "100/100 [==============================] - 3s 26ms/step - loss: 0.6456 - accuracy: 0.6700 - precision: 0.6700 - recall: 0.6700 - val_loss: 0.6185 - val_accuracy: 0.6944 - val_precision: 0.6944 - val_recall: 0.6944\n",
            "Epoch 20/30\n",
            "100/100 [==============================] - 3s 26ms/step - loss: 0.6331 - accuracy: 0.6820 - precision: 0.6820 - recall: 0.6820 - val_loss: 0.6187 - val_accuracy: 0.6944 - val_precision: 0.6944 - val_recall: 0.6944\n",
            "Epoch 21/30\n",
            "100/100 [==============================] - 3s 27ms/step - loss: 0.6520 - accuracy: 0.6700 - precision: 0.6700 - recall: 0.6700 - val_loss: 0.6220 - val_accuracy: 0.6944 - val_precision: 0.6944 - val_recall: 0.6944\n",
            "Epoch 22/30\n",
            "100/100 [==============================] - 3s 25ms/step - loss: 0.6465 - accuracy: 0.6880 - precision: 0.6880 - recall: 0.6880 - val_loss: 0.6172 - val_accuracy: 0.6944 - val_precision: 0.6944 - val_recall: 0.6944\n",
            "Epoch 23/30\n",
            "100/100 [==============================] - 3s 27ms/step - loss: 0.6425 - accuracy: 0.6640 - precision: 0.6640 - recall: 0.6640 - val_loss: 0.6172 - val_accuracy: 0.6944 - val_precision: 0.6944 - val_recall: 0.6944\n",
            "Epoch 24/30\n",
            "100/100 [==============================] - 3s 27ms/step - loss: 0.6367 - accuracy: 0.6920 - precision: 0.6920 - recall: 0.6920 - val_loss: 0.6172 - val_accuracy: 0.6944 - val_precision: 0.6944 - val_recall: 0.6944\n",
            "Epoch 25/30\n",
            "100/100 [==============================] - 3s 26ms/step - loss: 0.6583 - accuracy: 0.6660 - precision: 0.6660 - recall: 0.6660 - val_loss: 0.6264 - val_accuracy: 0.6944 - val_precision: 0.6944 - val_recall: 0.6944\n",
            "Epoch 26/30\n",
            " 79/100 [======================>.......] - ETA: 0s - loss: 0.6395 - accuracy: 0.6785 - precision: 0.6785 - recall: 0.6785"
          ]
        },
        {
          "output_type": "stream",
          "name": "stderr",
          "text": [
            "WARNING:tensorflow:Your input ran out of data; interrupting training. Make sure that your dataset or generator can generate at least `steps_per_epoch * epochs` batches (in this case, 3000 batches). You may need to use the repeat() function when building your dataset.\n"
          ]
        },
        {
          "output_type": "stream",
          "name": "stdout",
          "text": [
            "\b\b\b\b\b\b\b\b\b\b\b\b\b\b\b\b\b\b\b\b\b\b\b\b\b\b\b\b\b\b\b\b\b\b\b\b\b\b\b\b\b\b\b\b\b\b\b\b\b\b\b\b\b\b\b\b\b\b\b\b\b\b\b\b\b\b\b\b\b\b\b\b\b\b\b\b\b\b\b\b\b\b\b\b\b\b\b\b\b\b\b\b\b\b\b\b\b\b\b\b\b\b\b\b\b\b\b\b\b\b\b\b\b\b\b\b\b\b\b\b\b\r100/100 [==============================] - 2s 22ms/step - loss: 0.6382 - accuracy: 0.6800 - precision: 0.6800 - recall: 0.6800 - val_loss: 0.6316 - val_accuracy: 0.6944 - val_precision: 0.6944 - val_recall: 0.6944\n"
          ]
        }
      ]
    },
    {
      "cell_type": "code",
      "source": [
        "H = model.fit_generator(\n",
        "    trainAug.flow(trainX, trainY, batch_size=BS),\n",
        "    steps_per_epoch=len(trainX) // BS,\n",
        "    validation_data=(testX, testY),\n",
        "    validation_steps=len(testX) // BS,\n",
        "    epochs=EPOCHS)"
      ],
      "metadata": {
        "colab": {
          "base_uri": "https://localhost:8080/"
        },
        "id": "xfMy2pi0-8Wb",
        "outputId": "7666f602-d15e-48fc-8f49-49e62536f6ab"
      },
      "execution_count": null,
      "outputs": [
        {
          "output_type": "stream",
          "name": "stdout",
          "text": [
            "Epoch 1/30\n"
          ]
        },
        {
          "output_type": "stream",
          "name": "stderr",
          "text": [
            "<ipython-input-158-853bb0e42dbe>:1: UserWarning: `Model.fit_generator` is deprecated and will be removed in a future version. Please use `Model.fit`, which supports generators.\n",
            "  H = model.fit_generator(\n"
          ]
        },
        {
          "output_type": "stream",
          "name": "stdout",
          "text": [
            "53/53 [==============================] - ETA: 0s - loss: 0.6370 - accuracy: 0.6754 - precision: 0.6754 - recall: 0.6754"
          ]
        },
        {
          "output_type": "stream",
          "name": "stderr",
          "text": [
            "WARNING:tensorflow:Your input ran out of data; interrupting training. Make sure that your dataset or generator can generate at least `steps_per_epoch * epochs` batches (in this case, 13 batches). You may need to use the repeat() function when building your dataset.\n"
          ]
        },
        {
          "output_type": "stream",
          "name": "stdout",
          "text": [
            "\b\b\b\b\b\b\b\b\b\b\b\b\b\b\b\b\b\b\b\b\b\b\b\b\b\b\b\b\b\b\b\b\b\b\b\b\b\b\b\b\b\b\b\b\b\b\b\b\b\b\b\b\b\b\b\b\b\b\b\b\b\b\b\b\b\b\b\b\b\b\b\b\b\b\b\b\b\b\b\b\b\b\b\b\b\b\b\b\b\b\b\b\b\b\b\b\b\b\b\b\b\b\b\b\b\b\b\b\b\b\b\b\b\b\b\b\b\b\b\r53/53 [==============================] - 5s 80ms/step - loss: 0.6370 - accuracy: 0.6754 - precision: 0.6754 - recall: 0.6754 - val_loss: 0.6399 - val_accuracy: 0.6944 - val_precision: 0.6944 - val_recall: 0.6944\n",
            "Epoch 2/30\n",
            "53/53 [==============================] - 4s 74ms/step - loss: 0.6478 - accuracy: 0.6801 - precision: 0.6801 - recall: 0.6801\n",
            "Epoch 3/30\n",
            "53/53 [==============================] - 4s 75ms/step - loss: 0.6454 - accuracy: 0.6730 - precision: 0.6730 - recall: 0.6730\n",
            "Epoch 4/30\n",
            "53/53 [==============================] - 4s 75ms/step - loss: 0.6393 - accuracy: 0.6777 - precision: 0.6777 - recall: 0.6777\n",
            "Epoch 5/30\n",
            "53/53 [==============================] - 4s 75ms/step - loss: 0.6433 - accuracy: 0.6801 - precision: 0.6801 - recall: 0.6801\n",
            "Epoch 6/30\n",
            "53/53 [==============================] - 4s 75ms/step - loss: 0.6357 - accuracy: 0.6801 - precision: 0.6801 - recall: 0.6801\n",
            "Epoch 7/30\n",
            "53/53 [==============================] - 4s 74ms/step - loss: 0.6365 - accuracy: 0.6754 - precision: 0.6754 - recall: 0.6754\n",
            "Epoch 8/30\n",
            "53/53 [==============================] - 4s 74ms/step - loss: 0.6450 - accuracy: 0.6730 - precision: 0.6730 - recall: 0.6730\n",
            "Epoch 9/30\n",
            "53/53 [==============================] - 4s 75ms/step - loss: 0.6317 - accuracy: 0.6801 - precision: 0.6801 - recall: 0.6801\n",
            "Epoch 10/30\n",
            "53/53 [==============================] - 4s 74ms/step - loss: 0.6394 - accuracy: 0.6801 - precision: 0.6801 - recall: 0.6801\n",
            "Epoch 11/30\n",
            "53/53 [==============================] - 4s 74ms/step - loss: 0.6399 - accuracy: 0.6706 - precision: 0.6706 - recall: 0.6706\n",
            "Epoch 12/30\n",
            "53/53 [==============================] - 4s 75ms/step - loss: 0.6357 - accuracy: 0.6777 - precision: 0.6777 - recall: 0.6777\n",
            "Epoch 13/30\n",
            "53/53 [==============================] - 4s 74ms/step - loss: 0.6309 - accuracy: 0.6777 - precision: 0.6777 - recall: 0.6777\n",
            "Epoch 14/30\n",
            "53/53 [==============================] - 4s 75ms/step - loss: 0.6263 - accuracy: 0.6872 - precision: 0.6872 - recall: 0.6872\n",
            "Epoch 15/30\n",
            "53/53 [==============================] - 4s 76ms/step - loss: 0.6437 - accuracy: 0.6754 - precision: 0.6754 - recall: 0.6754\n",
            "Epoch 16/30\n",
            "53/53 [==============================] - 4s 74ms/step - loss: 0.6369 - accuracy: 0.6801 - precision: 0.6801 - recall: 0.6801\n",
            "Epoch 17/30\n",
            "53/53 [==============================] - 4s 73ms/step - loss: 0.6284 - accuracy: 0.6754 - precision: 0.6754 - recall: 0.6754\n",
            "Epoch 18/30\n",
            "53/53 [==============================] - 4s 74ms/step - loss: 0.6386 - accuracy: 0.6754 - precision: 0.6754 - recall: 0.6754\n",
            "Epoch 19/30\n",
            "53/53 [==============================] - 4s 75ms/step - loss: 0.6381 - accuracy: 0.6777 - precision: 0.6777 - recall: 0.6777\n",
            "Epoch 20/30\n",
            "53/53 [==============================] - 4s 74ms/step - loss: 0.6372 - accuracy: 0.6801 - precision: 0.6801 - recall: 0.6801\n",
            "Epoch 21/30\n",
            "53/53 [==============================] - 4s 75ms/step - loss: 0.6390 - accuracy: 0.6777 - precision: 0.6777 - recall: 0.6777\n",
            "Epoch 22/30\n",
            "53/53 [==============================] - 4s 74ms/step - loss: 0.6329 - accuracy: 0.6754 - precision: 0.6754 - recall: 0.6754\n",
            "Epoch 23/30\n",
            "53/53 [==============================] - 4s 74ms/step - loss: 0.6309 - accuracy: 0.6825 - precision: 0.6825 - recall: 0.6825\n",
            "Epoch 24/30\n",
            "53/53 [==============================] - 4s 74ms/step - loss: 0.6331 - accuracy: 0.6848 - precision: 0.6848 - recall: 0.6848\n",
            "Epoch 25/30\n",
            "53/53 [==============================] - 4s 74ms/step - loss: 0.6358 - accuracy: 0.6801 - precision: 0.6801 - recall: 0.6801\n",
            "Epoch 26/30\n",
            "53/53 [==============================] - 4s 74ms/step - loss: 0.6227 - accuracy: 0.6777 - precision: 0.6777 - recall: 0.6777\n",
            "Epoch 27/30\n",
            "53/53 [==============================] - 4s 75ms/step - loss: 0.6397 - accuracy: 0.6777 - precision: 0.6777 - recall: 0.6777\n",
            "Epoch 28/30\n",
            "53/53 [==============================] - 4s 74ms/step - loss: 0.6308 - accuracy: 0.6777 - precision: 0.6777 - recall: 0.6777\n",
            "Epoch 29/30\n",
            "53/53 [==============================] - 4s 74ms/step - loss: 0.6376 - accuracy: 0.6777 - precision: 0.6777 - recall: 0.6777\n",
            "Epoch 30/30\n",
            "53/53 [==============================] - 4s 74ms/step - loss: 0.6391 - accuracy: 0.6801 - precision: 0.6801 - recall: 0.6801\n"
          ]
        }
      ]
    },
    {
      "cell_type": "code",
      "source": [],
      "metadata": {
        "id": "otbUSWH__A8N"
      },
      "execution_count": null,
      "outputs": []
    }
  ],
  "metadata": {
    "kernelspec": {
      "display_name": "Python 3",
      "language": "python",
      "name": "python3"
    },
    "language_info": {
      "codemirror_mode": {
        "name": "ipython",
        "version": 3
      },
      "file_extension": ".py",
      "mimetype": "text/x-python",
      "name": "python",
      "nbconvert_exporter": "python",
      "pygments_lexer": "ipython3",
      "version": "3.6.6"
    },
    "colab": {
      "provenance": []
    },
    "accelerator": "GPU",
    "gpuClass": "premium"
  },
  "nbformat": 4,
  "nbformat_minor": 0
}